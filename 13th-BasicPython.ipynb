{
 "cells": [
  {
   "cell_type": "markdown",
   "metadata": {},
   "source": [
    "# 式の計算（加減乗除）"
   ]
  },
  {
   "cell_type": "code",
   "execution_count": 1,
   "metadata": {},
   "outputs": [
    {
     "data": {
      "text/plain": [
       "10"
      ]
     },
     "execution_count": 1,
     "metadata": {},
     "output_type": "execute_result"
    }
   ],
   "source": [
    "# 加算\n",
    "3+7"
   ]
  },
  {
   "cell_type": "code",
   "execution_count": 2,
   "metadata": {},
   "outputs": [
    {
     "data": {
      "text/plain": [
       "3"
      ]
     },
     "execution_count": 2,
     "metadata": {},
     "output_type": "execute_result"
    }
   ],
   "source": [
    "# 減算\n",
    "8-5"
   ]
  },
  {
   "cell_type": "code",
   "execution_count": 3,
   "metadata": {},
   "outputs": [
    {
     "data": {
      "text/plain": [
       "30"
      ]
     },
     "execution_count": 3,
     "metadata": {},
     "output_type": "execute_result"
    }
   ],
   "source": [
    "# 乗算\n",
    "6*5"
   ]
  },
  {
   "cell_type": "code",
   "execution_count": 4,
   "metadata": {},
   "outputs": [
    {
     "data": {
      "text/plain": [
       "3.0"
      ]
     },
     "execution_count": 4,
     "metadata": {},
     "output_type": "execute_result"
    }
   ],
   "source": [
    "# 除算\n",
    "9/3"
   ]
  },
  {
   "cell_type": "code",
   "execution_count": 5,
   "metadata": {},
   "outputs": [
    {
     "data": {
      "text/plain": [
       "2"
      ]
     },
     "execution_count": 5,
     "metadata": {},
     "output_type": "execute_result"
    }
   ],
   "source": [
    "# 余り\n",
    "143%3"
   ]
  },
  {
   "cell_type": "code",
   "execution_count": 6,
   "metadata": {},
   "outputs": [
    {
     "data": {
      "text/plain": [
       "59049"
      ]
     },
     "execution_count": 6,
     "metadata": {},
     "output_type": "execute_result"
    }
   ],
   "source": [
    "# xのn乗 (x ** n で表す)\n",
    "3**10"
   ]
  },
  {
   "cell_type": "markdown",
   "metadata": {},
   "source": [
    "# 関数print()を使用した表示\n",
    "(print()は、最終的に何かを表示させる以外にも、長いプログラムを書いたときに、処理した内容を表示させることでデバッグに使用できる。)"
   ]
  },
  {
   "cell_type": "code",
   "execution_count": 7,
   "metadata": {},
   "outputs": [
    {
     "name": "stdout",
     "output_type": "stream",
     "text": [
      "Hello, world!\n"
     ]
    }
   ],
   "source": [
    "print('Hello, world!')"
   ]
  },
  {
   "cell_type": "code",
   "execution_count": 8,
   "metadata": {},
   "outputs": [
    {
     "name": "stdout",
     "output_type": "stream",
     "text": [
      "Hello, world!\n",
      "It is cold, today\n"
     ]
    }
   ],
   "source": [
    "x = 'Hello, world!'\n",
    "print(x)\n",
    "y = 'It is cold, today'\n",
    "print(y)"
   ]
  },
  {
   "cell_type": "code",
   "execution_count": 9,
   "metadata": {},
   "outputs": [
    {
     "name": "stdout",
     "output_type": "stream",
     "text": [
      "3 + 7 =  10\n"
     ]
    }
   ],
   "source": [
    "print ('3 + 7 = ', 3+7)"
   ]
  },
  {
   "cell_type": "code",
   "execution_count": 10,
   "metadata": {},
   "outputs": [
    {
     "name": "stdout",
     "output_type": "stream",
     "text": [
      "30\n",
      "40\n"
     ]
    }
   ],
   "source": [
    "# 変数xに値を格納\n",
    "x = 6*5\n",
    "print(x)\n",
    "y = 5*8\n",
    "print(y)"
   ]
  },
  {
   "cell_type": "code",
   "execution_count": 11,
   "metadata": {},
   "outputs": [
    {
     "name": "stdout",
     "output_type": "stream",
     "text": [
      "2.5^{2}= 6.25\n",
      "3.14^{3}= 30.959144000000002\n",
      "6.25^{5}= 9536.7431640625\n"
     ]
    }
   ],
   "source": [
    "print('2.5^{2}=', 2.5**2)\n",
    "print('3.14^{3}=', 3.14**3)\n",
    "print('6.25^{5}=', 6.25**5)\n"
   ]
  },
  {
   "cell_type": "markdown",
   "metadata": {},
   "source": [
    "#Latexコマンドによる累乗表示 \n",
    "#(この表示はCodeモード。Markdownモードに変更し、以下の最初の\"#\"を外すことで、表示可能)\n",
    "\n",
    "$2.5^{2}= 6.25$\n",
    "\n",
    "$3.14^{3}= 30.959144000000002$"
   ]
  },
  {
   "cell_type": "markdown",
   "metadata": {},
   "source": [
    "# リスト: 値を並べたもの（数値、文字列ともに格納可能）"
   ]
  },
  {
   "cell_type": "code",
   "execution_count": 12,
   "metadata": {},
   "outputs": [
    {
     "name": "stdout",
     "output_type": "stream",
     "text": [
      "5 6 7 8 9 10\n",
      "[7, 8]\n",
      "9\n",
      "[6, 7, 8]\n"
     ]
    }
   ],
   "source": [
    "# 数値のリスト(リストのIDは、\"0\"から始まることに注意)\n",
    "a = [5, 6, 7, 8, 9, 10]\n",
    "print(a[0], a[1], a[2], a[3], a[4], a[5])\n",
    "\n",
    "# 指定した範囲のリストも取り出せる（後半の数字は、「未満」の意味でとらえると良い）\n",
    "print(a[2:4])\n",
    "\n",
    "# 負の数も指定可能\n",
    "# 後ろから2番目\n",
    "print(a[-2])\n",
    "\n",
    "# 前から2番目～後ろから3番目までの範囲\n",
    "print(a[1:-2])"
   ]
  },
  {
   "cell_type": "code",
   "execution_count": 13,
   "metadata": {},
   "outputs": [
    {
     "name": "stdout",
     "output_type": "stream",
     "text": [
      "[7, 8]\n"
     ]
    }
   ],
   "source": [
    "# リストの入れ子構造\n",
    "a = [5, 6, [7, 8], 9]\n",
    "print(a[2])"
   ]
  },
  {
   "cell_type": "code",
   "execution_count": 14,
   "metadata": {},
   "outputs": [
    {
     "name": "stdout",
     "output_type": "stream",
     "text": [
      "['dog', 'cat', 'swallow', 'lion', 'elephant']\n",
      "cat\n",
      "lion\n"
     ]
    }
   ],
   "source": [
    "# 文字列のリスト\n",
    "animals = ['dog', 'cat', 'swallow', 'lion', 'elephant']\n",
    "print(animals)\n",
    "print(animals[1])\n",
    "print(animals[3])"
   ]
  },
  {
   "cell_type": "code",
   "execution_count": 15,
   "metadata": {},
   "outputs": [
    {
     "name": "stdout",
     "output_type": "stream",
     "text": [
      "32\n",
      "Takahashi\n"
     ]
    }
   ],
   "source": [
    "# 数値と文字列の混在リスト（例：名前と年齢）\n",
    "mixed_list = ['Sato', 32, 'Suzuki', 27, 'Takahashi', 53, 'Tanaka', 45]\n",
    "print(mixed_list[1])\n",
    "print(mixed_list[4])"
   ]
  },
  {
   "cell_type": "code",
   "execution_count": 16,
   "metadata": {},
   "outputs": [
    {
     "name": "stdout",
     "output_type": "stream",
     "text": [
      "[['Sato', 32], ['Suzuki', 27], ['Takahashi', 53], ['Tanaka', 45]]\n",
      "['Takahashi', 53]\n",
      "Takahashi\n",
      "45\n"
     ]
    }
   ],
   "source": [
    "# 入れ子構造を利用して、上記のリストの「名前」と「年齢」をペアにして格納することもできる\n",
    "mixed_list = [['Sato', 32], ['Suzuki', 27], ['Takahashi', 53], ['Tanaka', 45]]\n",
    "print(mixed_list)\n",
    "print(mixed_list[2])\n",
    "\n",
    "# 3番目の要素の中の1番目の要素\n",
    "print(mixed_list[2][0])\n",
    "\n",
    "# 4番目の要素の中の2番目の要素\n",
    "print(mixed_list[3][1])"
   ]
  },
  {
   "cell_type": "markdown",
   "metadata": {},
   "source": [
    "# 関数とメソッド"
   ]
  },
  {
   "cell_type": "code",
   "execution_count": 17,
   "metadata": {
    "scrolled": true
   },
   "outputs": [
    {
     "name": "stdout",
     "output_type": "stream",
     "text": [
      "もともとのリスト [3, 6, 1, 8, 5]\n",
      "長さ: 5\n",
      "昇順: [1, 3, 5, 6, 8]\n",
      "降順: [8, 6, 5, 3, 1]\n"
     ]
    }
   ],
   "source": [
    "# 関数: あるオブジェクトの値に依存して、決まる値を返すもの\n",
    "# メソッド: オブジェクトに対して、何らかの処理を行うもの\n",
    "# len(): リストの長さを返す関数\n",
    "# sort(): リストの要素を、小さい順(昇順, ascending order)に並べ替えるメソッド\n",
    "# sort(reverse=True): リストの要素を、大きい順(降順, descending order)に並べ替えるメソッド \n",
    "\n",
    "a = [3, 6, 1, 8, 5]\n",
    "print('もともとのリスト', a)\n",
    "\n",
    "# リストaの長さを返す\n",
    "print('長さ:', len(a))\n",
    "\n",
    "# リストaを昇順に並べ替える\n",
    "a.sort()\n",
    "print('昇順:', a)\n",
    "\n",
    "# リストaを降順に並べ替える\n",
    "a = [3, 6, 1, 8, 5]\n",
    "a.sort(reverse=True) # reverse=True を指定することで、降順に並べ替えられる\n",
    "print('降順:', a)"
   ]
  },
  {
   "cell_type": "code",
   "execution_count": 18,
   "metadata": {},
   "outputs": [
    {
     "name": "stdout",
     "output_type": "stream",
     "text": [
      "【補足】\n",
      "もともとのリスト [3, 6, 1, 8, 5]\n",
      "sort()を使用して昇順: [1, 3, 5, 6, 8]\n",
      "さらにreverse()を使用して降順: [8, 6, 5, 3, 1]\n"
     ]
    }
   ],
   "source": [
    "# 【補足】\n",
    "# いったん、sort()を使用して昇順にした後、reverse()を使用して降順に並べ替えることもできる\n",
    "# reverse() は、リストの要素を逆順に並べ替えるメソッド\n",
    "print('【補足】')\n",
    "a = [3, 6, 1, 8, 5]\n",
    "print('もともとのリスト', a)\n",
    "a.sort()\n",
    "print('sort()を使用して昇順:', a)\n",
    "a.reverse()\n",
    "print('さらにreverse()を使用して降順:', a)"
   ]
  },
  {
   "cell_type": "code",
   "execution_count": 19,
   "metadata": {},
   "outputs": [
    {
     "name": "stdout",
     "output_type": "stream",
     "text": [
      "['dog', 'cat', 'swallow', 'lion', 'elephant']\n",
      "['dog', 'cat', 'swallow', 'lion', 'elephant', 'horse']\n"
     ]
    }
   ],
   "source": [
    "# リストanimalsに、'horse'を加える \n",
    "# append(): 既存のリストに要素を追加するメソッド\n",
    "animals = ['dog', 'cat', 'swallow', 'lion', 'elephant']\n",
    "print(animals)\n",
    "\n",
    "animals.append('horse')\n",
    "print(animals)"
   ]
  },
  {
   "cell_type": "code",
   "execution_count": 20,
   "metadata": {},
   "outputs": [
    {
     "name": "stdout",
     "output_type": "stream",
     "text": [
      "0.9980909020014521\n",
      "0.5499017179911324\n",
      "0.19796838948216944\n",
      "0.2817699571896982\n",
      "0.5623818988066781\n"
     ]
    }
   ],
   "source": [
    "# 乱数の生成 (1)\n",
    "import random\n",
    "random.seed() # 基本乱数生成器の初期化（現在のシステム時間を使用。乱数使用時に最初に行なう必要がある）\n",
    "for n in [1,2,3,4,5]:\n",
    "    print(random.random()) # random.random(): 0.0～1.0 の範囲のランダムな浮動小数点数を返す"
   ]
  },
  {
   "cell_type": "code",
   "execution_count": 21,
   "metadata": {},
   "outputs": [
    {
     "name": "stdout",
     "output_type": "stream",
     "text": [
      "35\n",
      "99\n",
      "1\n",
      "47\n",
      "77\n"
     ]
    }
   ],
   "source": [
    "# 乱数の生成 (2)\n",
    "import random\n",
    "random.seed() # 基本乱数生成器の初期化（現在のシステム時間を使用）\n",
    "for n in [1,2,3,4,5]:\n",
    "    print(random.randint(1,100)) # random.randint(a,b): a<=N<=b を満たすランダムな整数Nを返す"
   ]
  }
 ],
 "metadata": {
  "kernelspec": {
   "display_name": "Python 3",
   "language": "python",
   "name": "python3"
  },
  "language_info": {
   "codemirror_mode": {
    "name": "ipython",
    "version": 3
   },
   "file_extension": ".py",
   "mimetype": "text/x-python",
   "name": "python",
   "nbconvert_exporter": "python",
   "pygments_lexer": "ipython3",
   "version": "3.7.4"
  }
 },
 "nbformat": 4,
 "nbformat_minor": 2
}
