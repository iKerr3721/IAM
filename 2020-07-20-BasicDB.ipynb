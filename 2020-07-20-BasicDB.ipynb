{
 "cells": [
  {
   "cell_type": "code",
   "execution_count": 1,
   "metadata": {},
   "outputs": [
    {
     "data": {
      "text/plain": [
       "<sqlite3.Cursor at 0x1f38dc47a40>"
      ]
     },
     "execution_count": 1,
     "metadata": {},
     "output_type": "execute_result"
    }
   ],
   "source": [
    "# SQLite のモジュールをインポートする\n",
    "import sqlite3\n",
    " \n",
    "# Club.db に接続する\n",
    "conn = sqlite3.connect(\"Club.db\", isolation_level=None)\n",
    "\n",
    "# \"Members\" テーブルを作成する (id, name, age, hometown) \n",
    "# VARCHAR: 可変長文字列型, INTEGER: 整数\n",
    "sql=\"\"\"\n",
    "CREATE TABLE Members (\n",
    "    id VARCHAR(4), \n",
    "    name VARCHAR(30), \n",
    "    age INTEGER, \n",
    "    hometown VARCHAR(20)\n",
    ");\n",
    "\"\"\"\n",
    "\n",
    "conn.execute(sql)\n",
    "\n",
    "#データを作り直したいときには、次のコマンドを実行し、\n",
    "#conn.execute(\"DROP TABLE Members\")\n",
    "# 再度上記の \"Members\" テーブルを作成する"
   ]
  },
  {
   "cell_type": "code",
   "execution_count": 2,
   "metadata": {},
   "outputs": [
    {
     "data": {
      "text/plain": [
       "<sqlite3.Cursor at 0x1f38dc88180>"
      ]
     },
     "execution_count": 2,
     "metadata": {},
     "output_type": "execute_result"
    }
   ],
   "source": [
    "conn.execute(\"DROP TABLE Members\")"
   ]
  },
  {
   "cell_type": "code",
   "execution_count": 3,
   "metadata": {},
   "outputs": [
    {
     "data": {
      "text/plain": [
       "<sqlite3.Cursor at 0x1f38dc47810>"
      ]
     },
     "execution_count": 3,
     "metadata": {},
     "output_type": "execute_result"
    }
   ],
   "source": [
    "# SQLite のモジュールをインポートする\n",
    "import sqlite3\n",
    " \n",
    "# Club.db に接続する\n",
    "conn = sqlite3.connect(\"Club.db\", isolation_level=None)\n",
    "\n",
    "# \"Members\" テーブルを作成する (id, name, age, hometown) \n",
    "# VARCHAR: 可変長文字列型, INTEGER: 整数\n",
    "sql=\"\"\"\n",
    "CREATE TABLE Members (\n",
    "    id VARCHAR(4), \n",
    "    name VARCHAR(30), \n",
    "    age INTEGER, \n",
    "    hometown VARCHAR(20)\n",
    ");\n",
    "\"\"\"\n",
    "\n",
    "conn.execute(sql)\n",
    "\n",
    "# データを作り直したいときには、次のコマンドを実行し、\n",
    "# conn.execute(\"DROP TABLE Members\")\n",
    "# 再度上記の \"Members\" テーブルを作成する"
   ]
  },
  {
   "cell_type": "code",
   "execution_count": 4,
   "metadata": {},
   "outputs": [
    {
     "data": {
      "text/plain": [
       "<sqlite3.Cursor at 0x1f38dc88260>"
      ]
     },
     "execution_count": 4,
     "metadata": {},
     "output_type": "execute_result"
    }
   ],
   "source": [
    "# データを登録する(1)\n",
    "conn.execute(\"INSERT INTO Members VALUES (1001, '佐藤一郎', 25, '京都')\")\n",
    "\n",
    "# 次のように、SQL文を、いったん、、別の変数に格納してから、conn.execute(sql) とすることも可能\n",
    "# sql = \"INSERT INTO Members VALUES (1001, '佐藤一郎', 25, '京都')\"\n",
    "# conn.execute(sql)"
   ]
  },
  {
   "cell_type": "code",
   "execution_count": 5,
   "metadata": {},
   "outputs": [
    {
     "data": {
      "text/plain": [
       "<sqlite3.Cursor at 0x1f38dc88880>"
      ]
     },
     "execution_count": 5,
     "metadata": {},
     "output_type": "execute_result"
    }
   ],
   "source": [
    "# データを登録する(2)\n",
    "conn.execute(\"INSERT INTO Members VALUES (1015, '鈴木花子', 40, '京都')\")"
   ]
  },
  {
   "cell_type": "code",
   "execution_count": 6,
   "metadata": {},
   "outputs": [
    {
     "data": {
      "text/plain": [
       "<sqlite3.Cursor at 0x1f38dc88ea0>"
      ]
     },
     "execution_count": 6,
     "metadata": {},
     "output_type": "execute_result"
    }
   ],
   "source": [
    "# データを登録する(3)\n",
    "conn.execute(\"INSERT INTO Members VALUES (1027, 'Mary Scott', 33, 'New York')\")"
   ]
  },
  {
   "cell_type": "code",
   "execution_count": 7,
   "metadata": {},
   "outputs": [
    {
     "data": {
      "text/plain": [
       "<sqlite3.Cursor at 0x1f38dc90420>"
      ]
     },
     "execution_count": 7,
     "metadata": {},
     "output_type": "execute_result"
    }
   ],
   "source": [
    "# データを登録する(4)\n",
    "conn.execute(\"INSERT INTO Members VALUES (1033, 'Kevin Nelson', 45, 'London')\")"
   ]
  },
  {
   "cell_type": "code",
   "execution_count": 8,
   "metadata": {},
   "outputs": [
    {
     "data": {
      "text/plain": [
       "<sqlite3.Cursor at 0x1f38dc908f0>"
      ]
     },
     "execution_count": 8,
     "metadata": {},
     "output_type": "execute_result"
    }
   ],
   "source": [
    "# データを登録する(5)\n",
    "conn.execute(\"INSERT INTO Members VALUES (1038, '田中太郎', 37, '京都')\")"
   ]
  },
  {
   "cell_type": "code",
   "execution_count": 9,
   "metadata": {},
   "outputs": [
    {
     "data": {
      "text/plain": [
       "<sqlite3.Cursor at 0x1f38dc88340>"
      ]
     },
     "execution_count": 9,
     "metadata": {},
     "output_type": "execute_result"
    }
   ],
   "source": [
    "# データを登録する(6)\n",
    "conn.execute(\"INSERT INTO Members VALUES (1041, 'Jack Liu', 28, 'New York')\")"
   ]
  },
  {
   "cell_type": "code",
   "execution_count": 10,
   "metadata": {},
   "outputs": [
    {
     "name": "stdout",
     "output_type": "stream",
     "text": [
      "('1001', '佐藤一郎', 25, '京都')\n",
      "('1015', '鈴木花子', 40, '京都')\n",
      "('1027', 'Mary Scott', 33, 'New York')\n",
      "('1033', 'Kevin Nelson', 45, 'London')\n",
      "('1038', '田中太郎', 37, '京都')\n",
      "('1041', 'Jack Liu', 28, 'New York')\n"
     ]
    }
   ],
   "source": [
    "# 登録したデータを取得して表示する\n",
    "c=conn.cursor()\n",
    "c.execute(\"SELECT * FROM Members\")\n",
    "for row in c:\n",
    "    print(row)"
   ]
  },
  {
   "cell_type": "code",
   "execution_count": 11,
   "metadata": {},
   "outputs": [
    {
     "name": "stdout",
     "output_type": "stream",
     "text": [
      "('1001', '佐藤一郎', 25, '京都')\n",
      "('1015', '鈴木花子', 40, '京都')\n",
      "('1038', '田中太郎', 37, '京都')\n"
     ]
    }
   ],
   "source": [
    "# 特定のレコードを取得する例\n",
    "# 「京都」出身者のレコードを取得する\n",
    "sql=\"SELECT * FROM Members WHERE hometown='京都'\"\n",
    "c=conn.execute(sql)\n",
    "for row in c:\n",
    "    print (row)"
   ]
  },
  {
   "cell_type": "code",
   "execution_count": 12,
   "metadata": {},
   "outputs": [
    {
     "name": "stdout",
     "output_type": "stream",
     "text": [
      "34.666666666666664\n"
     ]
    }
   ],
   "source": [
    "# 年齢の平均を計算する\n",
    "sql=\"SELECT avg(age) FROM Members\"\n",
    "c.execute(sql)\n",
    "row = c.fetchone()\n",
    "print(row[0])"
   ]
  },
  {
   "cell_type": "code",
   "execution_count": 13,
   "metadata": {},
   "outputs": [
    {
     "name": "stdout",
     "output_type": "stream",
     "text": [
      "('Kevin Nelson', 45)\n",
      "('鈴木花子', 40)\n",
      "('田中太郎', 37)\n",
      "('Mary Scott', 33)\n",
      "('Jack Liu', 28)\n",
      "('佐藤一郎', 25)\n"
     ]
    }
   ],
   "source": [
    "# 年齢の降順(descending order)に並べる\n",
    "sql=\"SELECT name, age from Members ORDER BY age DESC\"\n",
    "c.execute(sql)\n",
    "for row in c: \n",
    "    print (row)"
   ]
  },
  {
   "cell_type": "code",
   "execution_count": 14,
   "metadata": {},
   "outputs": [
    {
     "name": "stdout",
     "output_type": "stream",
     "text": [
      "('佐藤一郎', 25)\n",
      "('Jack Liu', 28)\n",
      "('Mary Scott', 33)\n",
      "('田中太郎', 37)\n",
      "('鈴木花子', 40)\n",
      "('Kevin Nelson', 45)\n"
     ]
    }
   ],
   "source": [
    "# 年齢の昇順(ascending order)に並べる\n",
    "sql=\"SELECT name, age from Members ORDER BY age ASC\"\n",
    "c.execute(sql)\n",
    "for row in c: \n",
    "    print (row)"
   ]
  },
  {
   "cell_type": "code",
   "execution_count": 15,
   "metadata": {},
   "outputs": [
    {
     "name": "stdout",
     "output_type": "stream",
     "text": [
      "('1001', '佐藤一郎', 25, '京都')\n",
      "('1027', 'Mary Scott', 33, 'New York')\n",
      "('1041', 'Jack Liu', 28, 'New York')\n"
     ]
    }
   ],
   "source": [
    "# 35歳未満のレコードを取得する\n",
    "sql=\"SELECT * FROM Members WHERE age<35\"\n",
    "c.execute(sql)\n",
    "for row in c: \n",
    "    print (row)"
   ]
  },
  {
   "cell_type": "code",
   "execution_count": 16,
   "metadata": {},
   "outputs": [
    {
     "name": "stdout",
     "output_type": "stream",
     "text": [
      "45\n"
     ]
    }
   ],
   "source": [
    "# 年齢の最大値を表示する\n",
    "sql=\"SELECT MAX(age) FROM Members\"\n",
    "c.execute(sql)\n",
    "row = c.fetchone()\n",
    "print(row[0])"
   ]
  },
  {
   "cell_type": "code",
   "execution_count": 17,
   "metadata": {},
   "outputs": [
    {
     "name": "stdout",
     "output_type": "stream",
     "text": [
      "25\n"
     ]
    }
   ],
   "source": [
    "# 年齢の最小値を表示する\n",
    "sql=\"SELECT MIN(age) FROM Members\"\n",
    "c.execute(sql)\n",
    "row = c.fetchone()\n",
    "print(row[0])"
   ]
  },
  {
   "cell_type": "code",
   "execution_count": 18,
   "metadata": {},
   "outputs": [
    {
     "name": "stdout",
     "output_type": "stream",
     "text": [
      "('London', 1)\n",
      "('New York', 2)\n",
      "('京都', 3)\n"
     ]
    }
   ],
   "source": [
    "# Members テーブルをhometown でグループ化して、hometownの名前と、それぞれのレコード数を取得する\n",
    "sql= \"SELECT hometown,count(*) FROM Members GROUP BY hometown\"\n",
    "c.execute(sql)\n",
    "for row in c: \n",
    "    print (row)"
   ]
  },
  {
   "cell_type": "code",
   "execution_count": null,
   "metadata": {},
   "outputs": [],
   "source": []
  }
 ],
 "metadata": {
  "kernelspec": {
   "display_name": "Python 3",
   "language": "python",
   "name": "python3"
  },
  "language_info": {
   "codemirror_mode": {
    "name": "ipython",
    "version": 3
   },
   "file_extension": ".py",
   "mimetype": "text/x-python",
   "name": "python",
   "nbconvert_exporter": "python",
   "pygments_lexer": "ipython3",
   "version": "3.7.4"
  }
 },
 "nbformat": 4,
 "nbformat_minor": 2
}
